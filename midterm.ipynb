{
  "cells": [
    {
      "cell_type": "code",
      "source": [
        "import pandas as pd\n",
        "import numpy as np\n",
        "from textblob import TextBlob\n",
        "from sklearn.neighbors import KNeighborsClassifier\n",
        "from sklearn.model_selection import train_test_split, GridSearchCV\n",
        "from sklearn.metrics import classification_report\n",
        "from sklearn.preprocessing import StandardScaler\n",
        "from sklearn.decomposition import PCA\n"
      ],
      "metadata": {
        "id": "mdlhFMUvpa_9"
      },
      "execution_count": 2,
      "outputs": []
    },
    {
      "cell_type": "code",
      "source": [
        "\n",
        "# Load Data\n",
        "train_df = pd.read_csv('train.csv')\n",
        "# Separate train and test data within train.csv\n",
        "train_data  = train_df[train_df['Score'].notna()]  # Rows with known Score values for training\n",
        "test_data = train_df[train_df['Score'].isna()]    # Rows with missing Score values for testing\n",
        "\n",
        "# Verify the number of rows in each split\n",
        "print(f\"Number of rows in train_data (with Score): {len(train_data)}\")\n",
        "print(f\"Number of rows in test_data (without Score): {len(test_data)}\")\n"
      ],
      "metadata": {
        "colab": {
          "base_uri": "https://localhost:8080/"
        },
        "id": "lk3dWV9wh5v6",
        "outputId": "187ceb68-60c3-419a-ec00-c59f2b782b14"
      },
      "execution_count": 5,
      "outputs": [
        {
          "output_type": "stream",
          "name": "stdout",
          "text": [
            "Number of rows in train_data (with Score): 1485341\n",
            "Number of rows in test_data (without Score): 212192\n"
          ]
        }
      ]
    },
    {
      "cell_type": "code",
      "source": [
        "!pip install nltk\n",
        "\n",
        "import nltk\n",
        "nltk.download('vader_lexicon')\n"
      ],
      "metadata": {
        "colab": {
          "base_uri": "https://localhost:8080/"
        },
        "id": "EiiQEDFHzaPM",
        "outputId": "27c8ff91-8be1-41aa-9749-7ad37308c4b3"
      },
      "execution_count": null,
      "outputs": [
        {
          "output_type": "stream",
          "name": "stdout",
          "text": [
            "Requirement already satisfied: nltk in /usr/local/lib/python3.10/dist-packages (3.8.1)\n",
            "Requirement already satisfied: click in /usr/local/lib/python3.10/dist-packages (from nltk) (8.1.7)\n",
            "Requirement already satisfied: joblib in /usr/local/lib/python3.10/dist-packages (from nltk) (1.4.2)\n",
            "Requirement already satisfied: regex>=2021.8.3 in /usr/local/lib/python3.10/dist-packages (from nltk) (2024.9.11)\n",
            "Requirement already satisfied: tqdm in /usr/local/lib/python3.10/dist-packages (from nltk) (4.66.5)\n"
          ]
        },
        {
          "output_type": "stream",
          "name": "stderr",
          "text": [
            "[nltk_data] Downloading package vader_lexicon to /root/nltk_data...\n"
          ]
        },
        {
          "output_type": "execute_result",
          "data": {
            "text/plain": [
              "True"
            ]
          },
          "metadata": {},
          "execution_count": 9
        }
      ]
    },
    {
      "cell_type": "code",
      "source": [
        "import pandas as pd\n",
        "import numpy as np\n",
        "from nltk.sentiment.vader import SentimentIntensityAnalyzer\n",
        "from multiprocessing import Pool\n",
        "import time\n",
        "import nltk\n",
        "\n",
        "# Ensure VADER lexicon is downloaded\n",
        "nltk.download('vader_lexicon')\n",
        "\n",
        "# Initialize the VADER sentiment analyzer\n",
        "analyzer = SentimentIntensityAnalyzer()\n",
        "\n",
        "# Function to compute sentiment score\n",
        "def calculate_vader_sentiment(text):\n",
        "    # Return the compound sentiment score, a standardized measure of positivity/negativity\n",
        "    return analyzer.polarity_scores(text)['compound']\n",
        "\n",
        "# Function to apply sentiment analysis to a chunk of data\n",
        "def apply_sentiment(chunk):\n",
        "    return chunk.apply(calculate_vader_sentiment)\n",
        "\n",
        "# Multiprocessing function for parallel sentiment analysis\n",
        "def parallelize_sentiment_analysis(data, num_partitions=10):\n",
        "    # Split the data into chunks for each process\n",
        "    data_split = np.array_split(data, num_partitions)\n",
        "    pool = Pool()  # Pool will use as many cores as available by default\n",
        "\n",
        "    # Map the sentiment analysis function across all partitions\n",
        "    sentiment_scores = np.concatenate(pool.map(apply_sentiment, data_split))\n",
        "\n",
        "    pool.close()\n",
        "    pool.join()\n",
        "\n",
        "    return sentiment_scores\n",
        "\n",
        "# Perform sentiment analysis on train and test data, and track time\n",
        "start_time = time.time()\n",
        "\n",
        "# Sentiment analysis for 'Text' column in train_df\n",
        "train_data['Sentiment'] = parallelize_sentiment_analysis(train_data['Text'].fillna(''))\n",
        "print(f\"Sentiment analysis on train data complete. Time elapsed: {time.time() - start_time:.2f} seconds\")\n",
        "\n",
        "# Sentiment analysis for 'Text' column in test_df\n",
        "test_start_time = time.time()\n",
        "test_data['Sentiment'] = parallelize_sentiment_analysis(test_data['Text'].fillna(''))\n",
        "print(f\"Sentiment analysis on test data complete. Time elapsed: {time.time() - test_start_time:.2f} seconds\")\n",
        "\n",
        "# Total time for both datasets\n",
        "end_time = time.time()\n",
        "print(f\"Total Time for Sentiment Analysis on Train and Test Data: {end_time - start_time:.2f} seconds\")\n",
        "\n",
        "# Check the resulting sentiment scores\n",
        "print(train_data[['Text', 'Sentiment']].head())\n",
        "print(test_data[['Text', 'Sentiment']].head())\n"
      ],
      "metadata": {
        "colab": {
          "base_uri": "https://localhost:8080/"
        },
        "id": "YCvykq8kzPTr",
        "outputId": "482896c0-437a-4ca2-a0b2-93c6663507d2"
      },
      "execution_count": 25,
      "outputs": [
        {
          "metadata": {
            "tags": null
          },
          "name": "stderr",
          "output_type": "stream",
          "text": [
            "[nltk_data] Downloading package vader_lexicon to /root/nltk_data...\n",
            "[nltk_data]   Package vader_lexicon is already up-to-date!\n",
            "/usr/local/lib/python3.10/dist-packages/numpy/core/fromnumeric.py:59: FutureWarning: 'Series.swapaxes' is deprecated and will be removed in a future version. Please use 'Series.transpose' instead.\n",
            "  return bound(*args, **kwds)\n"
          ]
        },
        {
          "metadata": {
            "tags": null
          },
          "name": "stdout",
          "output_type": "stream",
          "text": [
            "Sentiment analysis on train data complete. Time elapsed: 1197.42 seconds\n"
          ]
        },
        {
          "output_type": "stream",
          "name": "stderr",
          "text": [
            "<ipython-input-25-f82ccf49a4a0>:46: SettingWithCopyWarning: \n",
            "A value is trying to be set on a copy of a slice from a DataFrame.\n",
            "Try using .loc[row_indexer,col_indexer] = value instead\n",
            "\n",
            "See the caveats in the documentation: https://pandas.pydata.org/pandas-docs/stable/user_guide/indexing.html#returning-a-view-versus-a-copy\n",
            "  test_data['Sentiment'] = parallelize_sentiment_analysis(test_data['Text'].fillna(''))\n"
          ]
        },
        {
          "output_type": "stream",
          "name": "stdout",
          "text": [
            "Sentiment analysis on test data complete. Time elapsed: 526.92 seconds\n",
            "Total Time for Sentiment Analysis on Train and Test Data: 1724.34 seconds\n",
            "                                                Text  Sentiment\n",
            "0  I'm giving the DVD itself 4 stars, the movie i...     0.9501\n",
            "1  With all that this movie could have been this ...    -0.6858\n",
            "2  No disrespect to Ms. Jennifer Hudson, but this...    -0.9543\n",
            "3  What Women Want isn't a bad film. It's just to...     0.5650\n",
            "4  I loved Enchanted alot.I didn't see it in Thea...     0.9779\n",
            "                                                      Text  Sentiment\n",
            "1485341  This movie was just alright for me. I think pe...     0.9862\n",
            "1485342  My kids love this movie.  Exciting and fun to ...     0.9389\n",
            "1485343  The effects were good, not the best but far fr...    -0.4912\n",
            "1485344  I just got a copy of this S. Korean dvd of \"He...     0.9712\n",
            "1485345  OK, to put this clearly and bluntly... if you ...     0.8141\n"
          ]
        }
      ]
    },
    {
      "cell_type": "code",
      "source": [
        "# Convert Unix timestamp to datetime format for both train and test data\n",
        "train_data['Time'] = pd.to_datetime(train_data['Time'], unit='s')\n",
        "test_data['Time'] = pd.to_datetime(test_data['Time'], unit='s')\n",
        "\n",
        "# Extract year, month, and season from the 'Time' column\n",
        "train_data['Year'] = train_data['Time'].dt.year\n",
        "train_data['Month'] = train_data['Time'].dt.month\n",
        "train_data['Season'] = train_data['Month'] % 12 // 3  # 0=Winter, 1=Spring, 2=Summer, 3=Fall\n",
        "\n",
        "test_data['Year'] = test_data['Time'].dt.year\n",
        "test_data['Month'] = test_data['Time'].dt.month\n",
        "test_data['Season'] = test_data['Month'] % 12 // 3\n",
        "\n",
        "# Calculate Helpfulness Ratio and fill NaN values with zero\n",
        "train_data['HelpfulnessRatio'] = train_data['HelpfulnessNumerator'] / (train_data['HelpfulnessDenominator'] + 1)\n",
        "test_data['HelpfulnessRatio'] = test_data['HelpfulnessNumerator'] / (test_data['HelpfulnessDenominator'] + 1)\n",
        "\n",
        "train_data['HelpfulnessRatio'].fillna(0, inplace=True)\n",
        "test_data['HelpfulnessRatio'].fillna(0, inplace=True)\n",
        "\n",
        "# Select relevant features for KNN\n",
        "train_features = train_data[['Sentiment', 'Year', 'Month', 'Season', 'HelpfulnessRatio']]\n",
        "test_features = test_data[['Sentiment', 'Year', 'Month', 'Season', 'HelpfulnessRatio']]\n",
        "\n",
        "# Target variable\n",
        "y = train_df['Score']\n",
        "\n",
        "# Data Sampling for Cross-Validation\n",
        "sampled_train_features = train_features.sample(n=200000, random_state=42)\n",
        "sampled_y = y[sampled_train_features.index]\n",
        "\n",
        "# Feature Scaling\n",
        "scaler = StandardScaler()\n",
        "X_scaled = scaler.fit_transform(sampled_train_features)\n",
        "X_test_scaled = scaler.transform(test_features)\n",
        "\n",
        "# Optional: Dimensionality Reduction if needed\n",
        "pca = PCA(n_components=3, random_state=42)\n",
        "X_reduced = pca.fit_transform(X_scaled)\n",
        "X_test_reduced = pca.transform(X_test_scaled)\n",
        "\n",
        "# Split data into training and validation sets\n",
        "X_train, X_val, y_train, y_val = train_test_split(X_reduced, sampled_y, test_size=0.2, random_state=42)\n",
        "\n",
        "# Set up KNN with cross-validation for 'n_neighbors' tuning\n",
        "param_grid = {'n_neighbors': [31, 33, 35, 37, 39, 41, 43, 45, 47, 49, 51, 53, 55, 57, 59, 61, 63]}\n",
        "knn = KNeighborsClassifier()\n",
        "\n",
        "# Grid search with 3-fold cross-validation\n",
        "grid_search = GridSearchCV(knn, param_grid, cv=3, scoring='accuracy', n_jobs=-1, verbose=1)\n",
        "grid_search.fit(X_train, y_train)\n",
        "\n",
        "# Best parameters and score from cross-validation\n",
        "print(\"Best Parameters:\", grid_search.best_params_)\n",
        "print(\"Best Cross-Validation Score:\", grid_search.best_score_)\n"
      ],
      "metadata": {
        "id": "jmG9UKIVEois"
      },
      "execution_count": null,
      "outputs": []
    },
    {
      "cell_type": "code",
      "source": [
        "\n",
        "# Train final model with best parameters on full training set\n",
        "best_knn = grid_search.best_estimator_\n",
        "best_knn.fit(X_train, y_train)\n",
        "\n",
        "# Validate model on validation set\n",
        "y_val_pred = best_knn.predict(X_val)\n",
        "print(\"Validation Report:\\n\", classification_report(y_val, y_val_pred))\n",
        "\n",
        "# Predict on Test Set\n",
        "test_predictions = best_knn.predict(X_test_reduced)\n",
        "\n",
        "# Prepare submission\n",
        "submission = pd.DataFrame({'Id': test_data['Id'], 'Score': test_predictions})\n",
        "submission.to_csv('submission.csv', index=False)\n",
        "print(\"Submission file created!\")"
      ],
      "metadata": {
        "id": "79Hc-pZovGAJ",
        "colab": {
          "base_uri": "https://localhost:8080/"
        },
        "outputId": "546d010b-7b96-42c0-c56f-453267c6914d"
      },
      "execution_count": 13,
      "outputs": [
        {
          "output_type": "stream",
          "name": "stdout",
          "text": [
            "Validation Report:\n",
            "               precision    recall  f1-score   support\n",
            "\n",
            "         1.0       0.22      0.14      0.17      2455\n",
            "         2.0       0.15      0.01      0.02      2335\n",
            "         3.0       0.19      0.01      0.02      4713\n",
            "         4.0       0.22      0.02      0.03      9045\n",
            "         5.0       0.55      0.96      0.70     21452\n",
            "\n",
            "    accuracy                           0.53     40000\n",
            "   macro avg       0.27      0.23      0.19     40000\n",
            "weighted avg       0.39      0.53      0.40     40000\n",
            "\n",
            "Submission file created!\n"
          ]
        }
      ]
    }
  ],
  "metadata": {
    "kernelspec": {
      "display_name": "Python 3",
      "language": "python",
      "name": "python3"
    },
    "language_info": {
      "codemirror_mode": {
        "name": "ipython",
        "version": 3
      },
      "file_extension": ".py",
      "mimetype": "text/x-python",
      "name": "python",
      "nbconvert_exporter": "python",
      "pygments_lexer": "ipython3",
      "version": "3.11.1"
    },
    "orig_nbformat": 4,
    "vscode": {
      "interpreter": {
        "hash": "e7370f93d1d0cde622a1f8e1c04877d8463912d04d973331ad4851f04de6915a"
      }
    },
    "colab": {
      "provenance": []
    }
  },
  "nbformat": 4,
  "nbformat_minor": 0
}